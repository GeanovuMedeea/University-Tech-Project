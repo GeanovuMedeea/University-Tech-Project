{
 "cells": [
  {
   "cell_type": "code",
   "execution_count": 109,
   "id": "d9b8b93d-4767-47a2-9517-83baa3c45c1a",
   "metadata": {},
   "outputs": [],
   "source": [
    "import numpy as np\n",
    "import scipy as sp\n",
    "import matplotlib as mpl\n",
    "import matplotlib.cm as cm\n",
    "import matplotlib.pyplot as plt\n",
    "import pandas as pd\n",
    "from sklearn import preprocessing\n",
    "import warnings"
   ]
  },
  {
   "cell_type": "code",
   "execution_count": 126,
   "id": "7e4f6527",
   "metadata": {},
   "outputs": [],
   "source": [
    "df = pd.read_csv('WA_Fn-UseC_-Telco-Customer-Churn.csv')\n",
    "#print(df.head())"
   ]
  },
  {
   "cell_type": "code",
   "execution_count": 127,
   "id": "2e13122f",
   "metadata": {},
   "outputs": [],
   "source": [
    "from sklearn.linear_model import LinearRegression\n",
    "from sklearn.model_selection import train_test_split\n",
    "\n",
    "tenure = np.array(df['tenure'])\n",
    "monthlycharges = np.array(df['MonthlyCharges'])\n",
    "totalcharges = np.array(df['TotalCharges'])\n",
    "#print(X_train)\n",
    "categorical_columns = ['gender', 'Partner', 'Dependents', 'PhoneService', 'MultipleLines',\n",
    "                       'InternetService', 'OnlineSecurity', 'OnlineBackup', 'DeviceProtection',\n",
    "                       'TechSupport', 'StreamingTV', 'StreamingMovies', 'Contract',\n",
    "                       'PaperlessBilling', 'PaymentMethod', 'Churn']\n",
    "\n",
    "numerical_columns = ['tenure', 'MonthlyCharges', 'TotalCharges']\n",
    "\n",
    "#for col in categorical_columns:\n",
    "#    le = preprocessing.LabelEncoder()\n",
    "#    df[col] = le.fit_transform(df[col])\n"
   ]
  },
  {
   "cell_type": "code",
   "execution_count": 131,
   "id": "72ffe97e",
   "metadata": {},
   "outputs": [
    {
     "name": "stdout",
     "output_type": "stream",
     "text": [
      "      customerID  gender  SeniorCitizen  Partner  Dependents  tenure  \\\n",
      "0     7590-VHVEG       0              0        1           0       1   \n",
      "1     5575-GNVDE       1              0        0           0      34   \n",
      "2     3668-QPYBK       1              0        0           0       2   \n",
      "3     7795-CFOCW       1              0        0           0      45   \n",
      "4     9237-HQITU       0              0        0           0       2   \n",
      "...          ...     ...            ...      ...         ...     ...   \n",
      "7038  6840-RESVB       1              0        1           1      24   \n",
      "7039  2234-XADUH       0              0        1           1      72   \n",
      "7040  4801-JZAZL       0              0        1           1      11   \n",
      "7041  8361-LTMKD       1              1        1           0       4   \n",
      "7042  3186-AJIEK       1              0        0           0      66   \n",
      "\n",
      "      PhoneService  MultipleLines  InternetService  OnlineSecurity  ...  \\\n",
      "0                0              1                0               0  ...   \n",
      "1                1              0                0               2  ...   \n",
      "2                1              0                0               2  ...   \n",
      "3                0              1                0               2  ...   \n",
      "4                1              0                1               0  ...   \n",
      "...            ...            ...              ...             ...  ...   \n",
      "7038             1              2                0               2  ...   \n",
      "7039             1              2                1               0  ...   \n",
      "7040             0              1                0               2  ...   \n",
      "7041             1              2                1               0  ...   \n",
      "7042             1              0                1               2  ...   \n",
      "\n",
      "      DeviceProtection  TechSupport  StreamingTV  StreamingMovies  Contract  \\\n",
      "0                    0            0            0                0         0   \n",
      "1                    2            0            0                0         1   \n",
      "2                    0            0            0                0         0   \n",
      "3                    2            2            0                0         1   \n",
      "4                    0            0            0                0         0   \n",
      "...                ...          ...          ...              ...       ...   \n",
      "7038                 2            2            2                2         1   \n",
      "7039                 2            0            2                2         1   \n",
      "7040                 0            0            0                0         0   \n",
      "7041                 0            0            0                0         0   \n",
      "7042                 2            2            2                2         2   \n",
      "\n",
      "      PaperlessBilling  PaymentMethod  MonthlyCharges  TotalCharges Churn  \n",
      "0                    1              2           29.85         29.85     0  \n",
      "1                    0              3           56.95        1889.5     0  \n",
      "2                    1              3           53.85        108.15     1  \n",
      "3                    0              0           42.30       1840.75     0  \n",
      "4                    1              2           70.70        151.65     1  \n",
      "...                ...            ...             ...           ...   ...  \n",
      "7038                 1              3           84.80        1990.5     0  \n",
      "7039                 1              1          103.20        7362.9     0  \n",
      "7040                 1              2           29.60        346.45     0  \n",
      "7041                 1              3           74.40         306.6     1  \n",
      "7042                 1              0          105.65        6844.5     0  \n",
      "\n",
      "[7043 rows x 21 columns]\n"
     ]
    }
   ],
   "source": [
    "enc = preprocessing.LabelEncoder()\n",
    "for col in categorical_columns:\n",
    "    enc = preprocessing.LabelEncoder()\n",
    "    df[col] = enc.fit_transform(df[col])\n",
    "\n",
    "#print(df.head())\n",
    "print(df)"
   ]
  },
  {
   "cell_type": "code",
   "execution_count": 132,
   "id": "5b16759d",
   "metadata": {},
   "outputs": [
    {
     "name": "stdout",
     "output_type": "stream",
     "text": [
      "[[0 0 1 ... 29.85 29.85 0]\n",
      " [1 0 0 ... 56.95 1889.5 0]\n",
      " [1 0 0 ... 53.85 108.15 1]\n",
      " ...\n",
      " [0 0 1 ... 29.6 346.45 0]\n",
      " [1 1 1 ... 74.4 306.6 1]\n",
      " [1 0 0 ... 105.65 6844.5 0]]\n"
     ]
    }
   ],
   "source": [
    "#df['TotalCharges'] = pd.to_numeric(df['TotalCharges'].round(2), errors='coerce').fillna(0).astype(float)\n",
    "#df['TotalCharges'] = pd.to_numeric(df['TotalCharges'], errors='coerce').fillna(0).astype(float)\n",
    "#print(df)\n",
    "X_train=np.array(df)\n",
    "X_train[X_train[:, 19] == ' ', 19] = '0'\n",
    "X_train[:, 19] = X_train[:, 19].astype(float)\n",
    "#print(X_train)\n",
    "Y_train = np.delete(X_train,0,1)\n",
    "#Y_train[:, 18] = Y_train[:, 18].astype(float)\n",
    "#Y_train[18] = pd.to_numeric(Y_train[18], errors='coerce').fillna(0).astype(float)\n",
    "print(Y_train)"
   ]
  },
  {
   "cell_type": "code",
   "execution_count": 133,
   "id": "1722fffa",
   "metadata": {},
   "outputs": [
    {
     "name": "stdout",
     "output_type": "stream",
     "text": [
      "[[1 29.85 29.85]\n",
      " [34 56.95 1889.5]\n",
      " [2 53.85 108.15]\n",
      " ...\n",
      " [11 29.6 346.45]\n",
      " [4 74.4 306.6]\n",
      " [66 105.65 6844.5]]\n",
      "[[0 0 1 ... 1 2 0]\n",
      " [1 0 0 ... 0 3 0]\n",
      " [1 0 0 ... 1 3 1]\n",
      " ...\n",
      " [0 0 1 ... 1 2 0]\n",
      " [1 1 1 ... 1 3 1]\n",
      " [1 0 0 ... 1 0 0]]\n"
     ]
    }
   ],
   "source": [
    "#Y_train = np.delete(X_train,0,1)\n",
    "Y_train_numerical = Y_train[:, [4, 17,18]]\n",
    "#Y_train_numerical\n",
    "Y_train_categorical = Y_train[:,[0,1,2,3,5,6,7,8,9,10,11,12,13,14,15,16,19]]\n",
    "print(Y_train_numerical)\n",
    "print(Y_train_categorical)"
   ]
  },
  {
   "cell_type": "code",
   "execution_count": 134,
   "id": "c332fe80",
   "metadata": {},
   "outputs": [],
   "source": [
    "Y_normalized_numerical=preprocessing.normalize(Y_train_numerical, norm='l2')"
   ]
  },
  {
   "cell_type": "code",
   "execution_count": 136,
   "id": "606b8534",
   "metadata": {},
   "outputs": [],
   "source": [
    "Y_normalized_categorical=preprocessing.normalize(Y_train_categorical, norm='l2')"
   ]
  },
  {
   "cell_type": "code",
   "execution_count": 143,
   "id": "4e667a53",
   "metadata": {},
   "outputs": [
    {
     "name": "stdout",
     "output_type": "stream",
     "text": [
      "[[0.02368203 0.70690847 0.70690847]\n",
      " [0.0179831  0.0301217  0.99938446]\n",
      " [0.01655198 0.44566203 0.89504826]\n",
      " ...\n",
      " [0.03161954 0.08508531 0.99587183]\n",
      " [0.01267735 0.23579879 0.97171921]\n",
      " [0.00964118 0.0154332  0.99983442]]\n",
      "[[0.         0.         0.30151134 ... 0.30151134 0.60302269 0.        ]\n",
      " [0.2236068  0.         0.         ... 0.         0.67082039 0.        ]\n",
      " [0.21821789 0.         0.         ... 0.21821789 0.65465367 0.21821789]\n",
      " ...\n",
      " [0.         0.         0.28867513 ... 0.28867513 0.57735027 0.        ]\n",
      " [0.2236068  0.2236068  0.2236068  ... 0.2236068  0.67082039 0.2236068 ]\n",
      " [0.18898224 0.         0.         ... 0.18898224 0.         0.        ]]\n"
     ]
    }
   ],
   "source": [
    "print(Y_normalized_numerical)\n",
    "print(Y_normalized_categorical)"
   ]
  },
  {
   "cell_type": "code",
   "execution_count": 145,
   "id": "f05d901b",
   "metadata": {},
   "outputs": [
    {
     "name": "stdout",
     "output_type": "stream",
     "text": [
      "mean: [0.16608755 0.06556478 0.14978514 0.09315514 0.21149859 0.20304483\n",
      " 0.28287013 0.18837171 0.2151798  0.23135366 0.20470904 0.25329119\n",
      " 0.27574243 0.19957911 0.19573299 0.37971161 0.11480506] , std: [0.17426184 0.15357552 0.16164188 0.14682554 0.08958057 0.20832611\n",
      " 0.24439081 0.20828919 0.21204728 0.22634302 0.2227958  0.22937893\n",
      " 0.24798828 0.23968905 0.17389986 0.26137723 0.19827027]\n"
     ]
    }
   ],
   "source": [
    "min_max_scaler = preprocessing.MinMaxScaler()\n",
    "Y_train_minmax=min_max_scaler.fit_transform(Y_normalized_categorical)\n",
    "Y_train_minmax\n",
    "print(\"mean:\", Y_train_minmax.mean(axis=0), \", std:\", Y_train_minmax.std(axis=0))"
   ]
  },
  {
   "cell_type": "code",
   "execution_count": null,
   "id": "72867da5",
   "metadata": {},
   "outputs": [],
   "source": [
    "min_max_scaler2 = preprocessing.MinMaxScaler()\n",
    "Y_train_minmax2=min_max_scaler2.fit_transform(Y_train_categorical)\n",
    "Y_train_minmax2\n",
    "#print(\"mean:\", Y_train_minmax2.mean(axis=0), \", std:\", Y_train_minmax2.std(axis=0))"
   ]
  },
  {
   "cell_type": "code",
   "execution_count": 138,
   "id": "a3967ee1",
   "metadata": {},
   "outputs": [],
   "source": [
    "#scaler = preprocessing.StandardScaler().fit(Y_train_numerical)\n",
    "#scaler\n",
    "#Y_scaled_numerical=scaler.transform(Y_train_numerical)\n",
    "#Y_scaled_numerical"
   ]
  },
  {
   "cell_type": "code",
   "execution_count": 139,
   "id": "36b31190",
   "metadata": {},
   "outputs": [],
   "source": [
    "#scaler = preprocessing.StandardScaler().fit(Y_train_categorical)\n",
    "#scaler\n",
    "#Y_scaled_categorical=scaler.transform(Y_train_categorical)\n",
    "#Y_scaled_categorical"
   ]
  },
  {
   "cell_type": "code",
   "execution_count": 140,
   "id": "30524786-b4bc-4627-ad55-f7cf2af2b82e",
   "metadata": {},
   "outputs": [],
   "source": [
    "#print(\"mean:\", Y_scaled_numerical.mean(axis=0), \", std:\", Y_scaled_numerical.std(axis=0))"
   ]
  },
  {
   "cell_type": "code",
   "execution_count": 78,
   "id": "f122d097-2170-4d5c-9e52-751d2ee1622e",
   "metadata": {},
   "outputs": [],
   "source": []
  },
  {
   "cell_type": "code",
   "execution_count": 141,
   "id": "e596f8e3-50cb-4a6e-8701-e932a98ba693",
   "metadata": {},
   "outputs": [
    {
     "name": "stdout",
     "output_type": "stream",
     "text": [
      "mean: [0.44959929 0.46280291 0.26249704] , std: [0.34107969 0.2993822  0.26098857]\n"
     ]
    }
   ],
   "source": [
    "min_max_scaler = preprocessing.MinMaxScaler()\n",
    "Y_train_minmax=min_max_scaler.fit_transform(Y_train_numerical)\n",
    "Y_train_minmax\n",
    "print(\"mean:\", Y_train_minmax.mean(axis=0), \", std:\", Y_train_minmax.std(axis=0))"
   ]
  },
  {
   "cell_type": "code",
   "execution_count": 142,
   "id": "03efacc9-2d66-456b-a959-918a1444a955",
   "metadata": {},
   "outputs": [
    {
     "name": "stdout",
     "output_type": "stream",
     "text": [
      "mean: [0.5047565  0.16214681 0.4830328  0.29958824 0.90316626 0.47025415\n",
      " 0.43646174 0.39500213 0.45321596 0.45222206 0.39855175 0.49268778\n",
      " 0.4962374  0.3452364  0.59221922 0.52477637 0.26536987] , std: [0.49997738 0.36858544 0.49971203 0.45807764 0.29573123 0.47424335\n",
      " 0.36887198 0.42989323 0.44004999 0.43994319 0.4307447  0.44246952\n",
      " 0.44251394 0.41684802 0.49142203 0.35600939 0.44152996]\n"
     ]
    }
   ],
   "source": [
    "min_max_scaler2 = preprocessing.MinMaxScaler()\n",
    "Y_train_minmax2=min_max_scaler2.fit_transform(Y_train_categorical)\n",
    "Y_train_minmax2\n",
    "#print(\"mean:\", Y_train_minmax2.mean(axis=0), \", std:\", Y_train_minmax2.std(axis=0))"
   ]
  },
  {
   "cell_type": "code",
   "execution_count": 72,
   "id": "feda94ed-f520-4d0b-a7dd-349accf60ffa",
   "metadata": {},
   "outputs": [],
   "source": []
  },
  {
   "cell_type": "code",
   "execution_count": 75,
   "id": "0b2f5b9b-70bb-4852-bdfa-be0fb369162a",
   "metadata": {
    "scrolled": true
   },
   "outputs": [],
   "source": []
  },
  {
   "cell_type": "code",
   "execution_count": 76,
   "id": "1ae6f312-5623-45a2-8e1a-1fe9ee4d0008",
   "metadata": {
    "scrolled": true
   },
   "outputs": [],
   "source": []
  },
  {
   "cell_type": "code",
   "execution_count": null,
   "id": "602da6e2-ced7-4f8f-8d35-a5e934e37764",
   "metadata": {},
   "outputs": [],
   "source": []
  },
  {
   "cell_type": "code",
   "execution_count": null,
   "id": "1e8e45e7-9ce6-4dfa-8fe4-270895fdc8e5",
   "metadata": {},
   "outputs": [],
   "source": []
  },
  {
   "cell_type": "code",
   "execution_count": null,
   "id": "d3716d60-468b-4da6-8676-23dd26d544a3",
   "metadata": {},
   "outputs": [],
   "source": []
  },
  {
   "cell_type": "code",
   "execution_count": null,
   "id": "1579e21e-7940-4424-95e4-350554613c0f",
   "metadata": {},
   "outputs": [],
   "source": []
  },
  {
   "cell_type": "code",
   "execution_count": null,
   "id": "1fbe5a04-7f45-4d44-87fa-2461e2e1de10",
   "metadata": {},
   "outputs": [],
   "source": []
  }
 ],
 "metadata": {
  "kernelspec": {
   "display_name": "Python 3 (ipykernel)",
   "language": "python",
   "name": "python3"
  },
  "language_info": {
   "codemirror_mode": {
    "name": "ipython",
    "version": 3
   },
   "file_extension": ".py",
   "mimetype": "text/x-python",
   "name": "python",
   "nbconvert_exporter": "python",
   "pygments_lexer": "ipython3",
   "version": "3.11.5"
  }
 },
 "nbformat": 4,
 "nbformat_minor": 5
}
