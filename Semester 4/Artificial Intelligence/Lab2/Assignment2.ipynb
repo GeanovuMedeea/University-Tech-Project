{
 "cells": [
  {
   "cell_type": "code",
   "execution_count": 1,
   "id": "d9b8b93d-4767-47a2-9517-83baa3c45c1a",
   "metadata": {},
   "outputs": [],
   "source": [
    "import numpy as np\n",
    "import scipy as sp\n",
    "import matplotlib as mpl\n",
    "import matplotlib.cm as cm\n",
    "import matplotlib.pyplot as plt\n",
    "import pandas as pd"
   ]
  },
  {
   "cell_type": "code",
   "execution_count": 3,
   "id": "30524786-b4bc-4627-ad55-f7cf2af2b82e",
   "metadata": {},
   "outputs": [],
   "source": [
    "from sklearn import preprocessing\n",
    "import warnings"
   ]
  },
  {
   "cell_type": "code",
   "execution_count": 78,
   "id": "f122d097-2170-4d5c-9e52-751d2ee1622e",
   "metadata": {},
   "outputs": [],
   "source": [
    "#df = pd.read_csv('WA_Fn-UseC_-Telco-Customer-Churn.csv')\n",
    "#print(df.head())"
   ]
  },
  {
   "cell_type": "code",
   "execution_count": null,
   "id": "e596f8e3-50cb-4a6e-8701-e932a98ba693",
   "metadata": {},
   "outputs": [],
   "source": []
  },
  {
   "cell_type": "code",
   "execution_count": 68,
   "id": "03efacc9-2d66-456b-a959-918a1444a955",
   "metadata": {},
   "outputs": [
    {
     "name": "stdout",
     "output_type": "stream",
     "text": [
      "[[1 29.85 29.85]\n",
      " [34 56.95 1889.5]\n",
      " [2 53.85 108.15]\n",
      " ...\n",
      " [11 29.6 346.45]\n",
      " [4 74.4 306.6]\n",
      " [66 105.65 6844.5]]\n",
      "[[0 0 1 ... 1 2 0]\n",
      " [1 0 0 ... 0 3 0]\n",
      " [1 0 0 ... 1 3 1]\n",
      " ...\n",
      " [0 0 1 ... 1 2 0]\n",
      " [1 1 1 ... 1 3 1]\n",
      " [1 0 0 ... 1 0 0]]\n"
     ]
    }
   ],
   "source": [
    "from sklearn.linear_model import LinearRegression\n",
    "from sklearn.model_selection import train_test_split\n",
    "\n",
    "tenure = np.array(df['tenure'])\n",
    "monthlycharges = np.array(df['MonthlyCharges'])\n",
    "totalcharges = np.array(df['TotalCharges'])\n",
    "X_train=np.array(df)\n",
    "#print(X_train)\n",
    "categorical_columns = ['gender', 'Partner', 'Dependents', 'PhoneService', 'MultipleLines',\n",
    "                       'InternetService', 'OnlineSecurity', 'OnlineBackup', 'DeviceProtection',\n",
    "                       'TechSupport', 'StreamingTV', 'StreamingMovies', 'Contract',\n",
    "                       'PaperlessBilling', 'PaymentMethod', 'Churn']\n",
    "\n",
    "numerical_columns = ['tenure', 'MonthlyCharges', 'TotalCharges']\n",
    "\n",
    "#for col in categorical_columns:\n",
    "#    le = preprocessing.LabelEncoder()\n",
    "#    df[col] = le.fit_transform(df[col])\n",
    "\n",
    "enc = preprocessing.LabelEncoder()\n",
    "for col in categorical_columns:\n",
    "    enc = preprocessing.LabelEncoder()\n",
    "    df[col] = enc.fit_transform(df[col])\n",
    "\n",
    "df['TotalCharges'] = pd.to_numeric(df['TotalCharges'].round(2), errors='coerce').fillna(0).astype(float)\n",
    "Y_train = np.delete(X_train,0,1)\n",
    "#print(Y_train)\n",
    "\n",
    "Y_train = np.delete(X_train,0,1)\n",
    "Y_train_numerical = Y_train[:, [4, 17,18]]\n",
    "Y_train_numerical\n",
    "Y_train_categorical = Y_train[:,[0,1,2,3,5,6,7,8,9,10,11,12,13,14,15,16,19]]\n",
    "print(Y_train_numerical)\n",
    "print(Y_train_categorical)"
   ]
  },
  {
   "cell_type": "code",
   "execution_count": 72,
   "id": "feda94ed-f520-4d0b-a7dd-349accf60ffa",
   "metadata": {},
   "outputs": [],
   "source": [
    "Y_normalized_numerical=preprocessing.normalize(Y_train_numerical, norm='l2')\n",
    "Y_normalized_categorical=preprocessing.normalize(Y_train_categorical, norm='l2')"
   ]
  },
  {
   "cell_type": "code",
   "execution_count": 75,
   "id": "0b2f5b9b-70bb-4852-bdfa-be0fb369162a",
   "metadata": {
    "scrolled": true
   },
   "outputs": [],
   "source": [
    "#scaler = preprocessing.StandardScaler().fit(Y_train_numerical)\n",
    "#scaler\n",
    "#Y_scaled_numerical=scaler.transform(Y_train_numerical)\n",
    "#Y_scaled_numerical"
   ]
  },
  {
   "cell_type": "code",
   "execution_count": 76,
   "id": "1ae6f312-5623-45a2-8e1a-1fe9ee4d0008",
   "metadata": {
    "scrolled": true
   },
   "outputs": [],
   "source": [
    "#scaler = preprocessing.StandardScaler().fit(Y_train_categorical)\n",
    "#scaler\n",
    "#Y_scaled_categorical=scaler.transform(Y_train_categorical)\n",
    "#Y_scaled_categorical"
   ]
  },
  {
   "cell_type": "code",
   "execution_count": 55,
   "id": "602da6e2-ced7-4f8f-8d35-a5e934e37764",
   "metadata": {},
   "outputs": [
    {
     "name": "stdout",
     "output_type": "stream",
     "text": [
      "mean: [-2.42127299e-17 -6.40628478e-17 -3.78323904e-17] , std: [1. 1. 1.]\n"
     ]
    }
   ],
   "source": [
    "print(\"mean:\", Y_scaled_numerical.mean(axis=0), \", std:\", Y_scaled_numerical.std(axis=0))"
   ]
  },
  {
   "cell_type": "code",
   "execution_count": 73,
   "id": "1e8e45e7-9ce6-4dfa-8fe4-270895fdc8e5",
   "metadata": {},
   "outputs": [
    {
     "name": "stdout",
     "output_type": "stream",
     "text": [
      "mean: [-2.42127299e-17 -6.40628478e-17 -3.78323904e-17] , std: [1. 1. 1.]\n"
     ]
    }
   ],
   "source": [
    "min_max_scaler = preprocessing.MinMaxScaler()\n",
    "Y_train_minmax=min_max_scaler.fit_transform(Y_train_numerical)\n",
    "Y_train_minmax\n",
    "print(\"mean:\", Y_scaled_numerical.mean(axis=0), \", std:\", Y_scaled_numerical.std(axis=0))"
   ]
  },
  {
   "cell_type": "code",
   "execution_count": 74,
   "id": "d3716d60-468b-4da6-8676-23dd26d544a3",
   "metadata": {},
   "outputs": [
    {
     "name": "stdout",
     "output_type": "stream",
     "text": [
      "mean: [-2.21950024e-17 -4.84254598e-17  7.16293259e-17  1.06939557e-16\n",
      "  7.86913721e-17 -1.51329562e-17  8.57534183e-18  6.80983028e-17\n",
      "  2.29516502e-17 -4.53988685e-17 -3.12747761e-17  2.16905705e-17\n",
      "  7.06204622e-18 -7.56647809e-17 -5.95229610e-17 -1.16019331e-17\n",
      " -7.66736446e-17] , std: [1. 1. 1. 1. 1. 1. 1. 1. 1. 1. 1. 1. 1. 1. 1. 1. 1.]\n"
     ]
    }
   ],
   "source": [
    "min_max_scaler2 = preprocessing.MinMaxScaler()\n",
    "Y_train_minmax2=min_max_scaler2.fit_transform(Y_train_categorical)\n",
    "Y_train_minmax2\n",
    "print(\"mean:\", Y_scaled_categorical.mean(axis=0), \", std:\", Y_scaled_categorical.std(axis=0))"
   ]
  },
  {
   "cell_type": "code",
   "execution_count": null,
   "id": "1579e21e-7940-4424-95e4-350554613c0f",
   "metadata": {},
   "outputs": [],
   "source": []
  },
  {
   "cell_type": "code",
   "execution_count": null,
   "id": "1fbe5a04-7f45-4d44-87fa-2461e2e1de10",
   "metadata": {},
   "outputs": [],
   "source": []
  }
 ],
 "metadata": {
  "kernelspec": {
   "display_name": "Python 3 (ipykernel)",
   "language": "python",
   "name": "python3"
  },
  "language_info": {
   "codemirror_mode": {
    "name": "ipython",
    "version": 3
   },
   "file_extension": ".py",
   "mimetype": "text/x-python",
   "name": "python",
   "nbconvert_exporter": "python",
   "pygments_lexer": "ipython3",
   "version": "3.11.0"
  }
 },
 "nbformat": 4,
 "nbformat_minor": 5
}
