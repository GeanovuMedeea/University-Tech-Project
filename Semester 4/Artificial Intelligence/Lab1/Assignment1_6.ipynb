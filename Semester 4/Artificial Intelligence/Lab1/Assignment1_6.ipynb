{
 "cells": [
  {
   "cell_type": "code",
   "execution_count": 6,
   "id": "3125a50f-f667-4898-a14f-f3e6c34413cc",
   "metadata": {},
   "outputs": [
    {
     "name": "stdout",
     "output_type": "stream",
     "text": [
      "Selected index: 5\n"
     ]
    }
   ],
   "source": [
    "import numpy as np\n",
    "\n",
    "def spinner(probabilityDistribution):\n",
    "    n = len(probabilityDistribution)\n",
    "    indices = np.arange(n)\n",
    "    selected_index = np.random.choice(indices, p=probabilityDistribution)\n",
    "    return selected_index\n",
    "\n",
    "n=6\n",
    "# probabilityDistribution = [0.25,0.1,0.5,0.1,0.05]\n",
    "probabilityDistribution_numbers = np.random.rand(n)\n",
    "probabilityDistribution = probabilityDistribution_numbers/ np.sum(probabilityDistribution_numbers)\n",
    "selected_index = spinner(probabilityDistribution)\n",
    "print(\"Selected index:\", selected_index)\n"
   ]
  },
  {
   "cell_type": "code",
   "execution_count": null,
   "id": "c61e1199-c33f-43ff-b594-5b4d35a23875",
   "metadata": {},
   "outputs": [],
   "source": []
  },
  {
   "cell_type": "code",
   "execution_count": null,
   "id": "4a78b35b-3c0a-4a4e-aaee-13c8cece126c",
   "metadata": {},
   "outputs": [],
   "source": []
  },
  {
   "cell_type": "raw",
   "id": "1d42b87c-b21f-4c64-8377-e4d4be889c3b",
   "metadata": {},
   "source": []
  },
  {
   "cell_type": "code",
   "execution_count": null,
   "id": "e8f6bdb8-d0ce-4505-8b7f-d00568c53e56",
   "metadata": {},
   "outputs": [],
   "source": []
  },
  {
   "cell_type": "code",
   "execution_count": null,
   "id": "54e6bb67-4ef1-4ce1-8885-86071865dc9d",
   "metadata": {},
   "outputs": [],
   "source": []
  }
 ],
 "metadata": {
  "kernelspec": {
   "display_name": "Python 3 (ipykernel)",
   "language": "python",
   "name": "python3"
  },
  "language_info": {
   "codemirror_mode": {
    "name": "ipython",
    "version": 3
   },
   "file_extension": ".py",
   "mimetype": "text/x-python",
   "name": "python",
   "nbconvert_exporter": "python",
   "pygments_lexer": "ipython3",
   "version": "3.11.0"
  }
 },
 "nbformat": 4,
 "nbformat_minor": 5
}
