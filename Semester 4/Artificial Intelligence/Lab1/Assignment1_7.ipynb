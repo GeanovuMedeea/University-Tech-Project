{
 "cells": [
  {
   "cell_type": "code",
   "execution_count": 2,
   "id": "18949c9f-75c5-48c4-a4e6-47166ccb5953",
   "metadata": {},
   "outputs": [
    {
     "name": "stdout",
     "output_type": "stream",
     "text": [
      "Mathematical probability: 0.2827433388230814\n",
      "Probability Monte Carlo: 0.28187\n"
     ]
    }
   ],
   "source": [
    "import numpy as np\n",
    "R = 30\n",
    "l = 100\n",
    "num_simulations = 100000\n",
    "\n",
    "# mathematical probability, we divide the circle area to the whole field area\n",
    "math_prob = np.pi * R**2 / l**2\n",
    "\n",
    "# Monte Carlo simulation\n",
    "num_inside_pipe = 0\n",
    "for _ in range(num_simulations):\n",
    "    x = np.random.uniform(0, l)  # x of the ball within the field\n",
    "    y = np.random.uniform(0, l)  # y of the ball within the field\n",
    "    # check if it lands inside the circle in the middle of the field, and because r is 1cm, no further checks are needed\n",
    "    if (x - l/2)**2 + (y - l/2)**2 <= R**2:\n",
    "        num_inside_pipe += 1\n",
    "\n",
    "# simulation probability\n",
    "sim_prob = num_inside_pipe / num_simulations\n",
    "\n",
    "print(\"Mathematical probability:\", math_prob)\n",
    "print(\"Probability Monte Carlo:\", sim_prob)\n"
   ]
  },
  {
   "cell_type": "code",
   "execution_count": 4,
   "id": "6227a7a9-ee42-47f5-abfb-d24ea3995fca",
   "metadata": {},
   "outputs": [
    {
     "name": "stdout",
     "output_type": "stream",
     "text": [
      "Sorry, CPU only.\n"
     ]
    }
   ],
   "source": []
  },
  {
   "cell_type": "code",
   "execution_count": null,
   "id": "4faac909-9085-4b3f-954e-a3ea89cf9a94",
   "metadata": {},
   "outputs": [],
   "source": []
  }
 ],
 "metadata": {
  "kernelspec": {
   "display_name": "Python 3 (ipykernel)",
   "language": "python",
   "name": "python3"
  },
  "language_info": {
   "codemirror_mode": {
    "name": "ipython",
    "version": 3
   },
   "file_extension": ".py",
   "mimetype": "text/x-python",
   "name": "python",
   "nbconvert_exporter": "python",
   "pygments_lexer": "ipython3",
   "version": "3.11.0"
  }
 },
 "nbformat": 4,
 "nbformat_minor": 5
}
